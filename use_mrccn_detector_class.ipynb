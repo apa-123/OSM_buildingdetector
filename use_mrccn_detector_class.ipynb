{
 "cells": [
  {
   "cell_type": "code",
   "execution_count": 1,
   "metadata": {
    "scrolled": true
   },
   "outputs": [
    {
     "name": "stderr",
     "output_type": "stream",
     "text": [
      "Using TensorFlow backend.\n"
     ]
    }
   ],
   "source": [
    "from Mask_RCNN_Detect import Mask_RCNN_Detect"
   ]
  },
  {
   "cell_type": "code",
   "execution_count": 2,
   "metadata": {},
   "outputs": [
    {
     "name": "stderr",
     "output_type": "stream",
     "text": [
      "WARNING: Logging before flag parsing goes to stderr.\n",
      "W0730 10:41:43.806675 4572730816 deprecation_wrapper.py:119] From /Applications/anaconda3/envs/OSM_BD/lib/python3.7/site-packages/keras/backend/tensorflow_backend.py:517: The name tf.placeholder is deprecated. Please use tf.compat.v1.placeholder instead.\n",
      "\n",
      "W0730 10:41:43.826821 4572730816 deprecation_wrapper.py:119] From /Applications/anaconda3/envs/OSM_BD/lib/python3.7/site-packages/keras/backend/tensorflow_backend.py:74: The name tf.get_default_graph is deprecated. Please use tf.compat.v1.get_default_graph instead.\n",
      "\n",
      "W0730 10:41:43.830896 4572730816 deprecation_wrapper.py:119] From /Applications/anaconda3/envs/OSM_BD/lib/python3.7/site-packages/keras/backend/tensorflow_backend.py:4138: The name tf.random_uniform is deprecated. Please use tf.random.uniform instead.\n",
      "\n",
      "W0730 10:41:43.854002 4572730816 deprecation_wrapper.py:119] From /Applications/anaconda3/envs/OSM_BD/lib/python3.7/site-packages/keras/backend/tensorflow_backend.py:1919: The name tf.nn.fused_batch_norm is deprecated. Please use tf.compat.v1.nn.fused_batch_norm instead.\n",
      "\n",
      "W0730 10:41:43.856826 4572730816 deprecation_wrapper.py:119] From /Applications/anaconda3/envs/OSM_BD/lib/python3.7/site-packages/keras/backend/tensorflow_backend.py:3976: The name tf.nn.max_pool is deprecated. Please use tf.nn.max_pool2d instead.\n",
      "\n",
      "W0730 10:41:45.901283 4572730816 deprecation_wrapper.py:119] From /Applications/anaconda3/envs/OSM_BD/lib/python3.7/site-packages/keras/backend/tensorflow_backend.py:2018: The name tf.image.resize_nearest_neighbor is deprecated. Please use tf.compat.v1.image.resize_nearest_neighbor instead.\n",
      "\n",
      "W0730 10:41:46.233504 4572730816 deprecation_wrapper.py:119] From /Users/jmathur25/Desktop/OSM_buildingdetector/mrcnn/model.py:342: The name tf.log is deprecated. Please use tf.math.log instead.\n",
      "\n",
      "W0730 10:41:46.240569 4572730816 deprecation.py:323] From /Users/jmathur25/Desktop/OSM_buildingdetector/mrcnn/model.py:400: add_dispatch_support.<locals>.wrapper (from tensorflow.python.ops.array_ops) is deprecated and will be removed in a future version.\n",
      "Instructions for updating:\n",
      "Use tf.where in 2.0, which has the same broadcast rule as np.where\n",
      "W0730 10:41:46.245444 4572730816 deprecation.py:506] From /Users/jmathur25/Desktop/OSM_buildingdetector/mrcnn/model.py:424: calling crop_and_resize_v1 (from tensorflow.python.ops.image_ops_impl) with box_ind is deprecated and will be removed in a future version.\n",
      "Instructions for updating:\n",
      "box_ind is deprecated, use box_indices instead\n",
      "W0730 10:41:46.522071 4572730816 deprecation_wrapper.py:119] From /Users/jmathur25/Desktop/OSM_buildingdetector/mrcnn/model.py:721: The name tf.sets.set_intersection is deprecated. Please use tf.sets.intersection instead.\n",
      "\n",
      "W0730 10:41:46.525490 4572730816 deprecation_wrapper.py:119] From /Users/jmathur25/Desktop/OSM_buildingdetector/mrcnn/model.py:723: The name tf.sparse_tensor_to_dense is deprecated. Please use tf.sparse.to_dense instead.\n",
      "\n",
      "W0730 10:41:46.597829 4572730816 deprecation.py:323] From /Users/jmathur25/Desktop/OSM_buildingdetector/mrcnn/model.py:773: to_float (from tensorflow.python.ops.math_ops) is deprecated and will be removed in a future version.\n",
      "Instructions for updating:\n",
      "Use `tf.cast` instead.\n"
     ]
    },
    {
     "name": "stdout",
     "output_type": "stream",
     "text": [
      "Loading weights from  weights/epoch55.h5\n",
      "initial detect works\n"
     ]
    }
   ],
   "source": [
    "weights = 'weights/epoch55.h5'\n",
    "mrcnn = Mask_RCNN_Detect(weights)"
   ]
  },
  {
   "cell_type": "code",
   "execution_count": 3,
   "metadata": {},
   "outputs": [],
   "source": [
    "from PIL import Image\n",
    "import os\n",
    "import numpy as np\n",
    "import matplotlib.pyplot as plt\n",
    "import imageio"
   ]
  },
  {
   "cell_type": "code",
   "execution_count": 4,
   "metadata": {},
   "outputs": [],
   "source": [
    "%matplotlib inline"
   ]
  },
  {
   "cell_type": "code",
   "execution_count": 5,
   "metadata": {},
   "outputs": [
    {
     "data": {
      "text/plain": [
       "['97149.png', '97148.png', '97146.png', '97147.png', '97151.png', '97150.png']"
      ]
     },
     "execution_count": 5,
     "metadata": {},
     "output_type": "execute_result"
    }
   ],
   "source": [
    "files = os.listdir('imgcache/18/67017'); files"
   ]
  },
  {
   "cell_type": "markdown",
   "metadata": {
    "heading_collapsed": true
   },
   "source": [
    "# Plotting Combined Masks"
   ]
  },
  {
   "cell_type": "code",
   "execution_count": null,
   "metadata": {
    "hidden": true
   },
   "outputs": [],
   "source": [
    "init = np.zeros([256*2, 256*3, 3])"
   ]
  },
  {
   "cell_type": "code",
   "execution_count": null,
   "metadata": {
    "hidden": true
   },
   "outputs": [],
   "source": [
    "for i in range(6):\n",
    "    im = plt.imread('imgcache/18/62239/' + files[i])\n",
    "    if i <= 2:\n",
    "        init[0:256, i*256:(i+1)*256, :] = im\n",
    "    else:\n",
    "        i -= 3\n",
    "        init[256:256*2, i*256:(i+1)*256, :] = im"
   ]
  },
  {
   "cell_type": "code",
   "execution_count": null,
   "metadata": {
    "hidden": true
   },
   "outputs": [],
   "source": [
    "init.shape"
   ]
  },
  {
   "cell_type": "code",
   "execution_count": null,
   "metadata": {
    "hidden": true
   },
   "outputs": [],
   "source": [
    "plt.imshow(init)"
   ]
  },
  {
   "cell_type": "code",
   "execution_count": null,
   "metadata": {
    "hidden": true
   },
   "outputs": [],
   "source": [
    "init = (init * 256).astype(np.uint8)"
   ]
  },
  {
   "cell_type": "code",
   "execution_count": null,
   "metadata": {
    "hidden": true
   },
   "outputs": [],
   "source": [
    "masks = mrcnn._detect_with_split(init); masks"
   ]
  },
  {
   "cell_type": "code",
   "execution_count": null,
   "metadata": {
    "hidden": true
   },
   "outputs": [],
   "source": [
    "plt.imshow(masks)"
   ]
  },
  {
   "cell_type": "code",
   "execution_count": null,
   "metadata": {
    "hidden": true
   },
   "outputs": [],
   "source": [
    "plt.imshow(masks) # 5"
   ]
  },
  {
   "cell_type": "code",
   "execution_count": null,
   "metadata": {
    "hidden": true
   },
   "outputs": [],
   "source": [
    "plt.imshow(masks) # 15"
   ]
  },
  {
   "cell_type": "code",
   "execution_count": null,
   "metadata": {
    "hidden": true
   },
   "outputs": [],
   "source": [
    "plt.imshow(masks) # 30"
   ]
  },
  {
   "cell_type": "code",
   "execution_count": null,
   "metadata": {
    "hidden": true
   },
   "outputs": [],
   "source": [
    "plt.imshow(masks) # 55"
   ]
  },
  {
   "cell_type": "markdown",
   "metadata": {
    "heading_collapsed": true
   },
   "source": [
    "# Extracting only smaller masks"
   ]
  },
  {
   "cell_type": "code",
   "execution_count": null,
   "metadata": {
    "hidden": true
   },
   "outputs": [],
   "source": [
    "def plot_mask(masks, labels):\n",
    "    if masks is None: # just an empty plot\n",
    "        plt.imshow(np.zeros([512,512,3]).astype(np.uint8))\n",
    "        return\n",
    "    net_image = np.zeros([masks.shape[0],masks.shape[1],3])\n",
    "    assert masks.shape[-1] == len(labels)\n",
    "    for i in range(masks.shape[2]):\n",
    "        m = masks[:,:,i].astype(np.uint8)[:,:,None]\n",
    "        mask = np.stack([m,m,m], axis=2).reshape((m.shape[0], m.shape[1], 3))\n",
    "        if labels[i] == 'building':\n",
    "            mask = mask * np.array([25,160,90]) # yellow for corn\n",
    "        net_image += mask\n",
    "    plt.imshow(net_image.astype(np.uint8))"
   ]
  },
  {
   "cell_type": "code",
   "execution_count": null,
   "metadata": {
    "hidden": true
   },
   "outputs": [],
   "source": [
    "im = Image.fromarray(im)\n",
    "im = im.resize((320,320), Image.ANTIALIAS)\n",
    "out = mrcnn.model.detect([imageio.core.util.Array(np.array(im)[:,:,:3])])"
   ]
  },
  {
   "cell_type": "code",
   "execution_count": null,
   "metadata": {
    "hidden": true
   },
   "outputs": [],
   "source": [
    "def small_merge(masks): # merges only the small ones inside\n",
    "    net_mask = np.zeros((masks.shape[0],masks.shape[1]))\n",
    "    for i,layer in enumerate(range(masks.shape[2])):\n",
    "        m = masks[:,:,layer] # gives an id\n",
    "        shared = (m & (net_mask != 0))\n",
    "        i += 1\n",
    "        shared_count = np.count_nonzero(shared)\n",
    "        if (shared_count > 100):\n",
    "            new_id = i\n",
    "            tmp = np.argwhere(shared)[0]\n",
    "            collision_id = net_mask[tmp[0], tmp[1]]\n",
    "            collision_id_mask = net_mask == collision_id\n",
    "a\n",
    "            new_count = np.count_nonzero(m)\n",
    "            collision_count = np.count_nonzero(collision_id_mask)\n",
    "\n",
    "#             if new_count > collision_count and new_count < 10000:\n",
    "#                 net_mask[collision_id_mask] = 0\n",
    "#                 net_mask += m * i\n",
    "            if new_count < collision_count:\n",
    "                net_mask[collision_id_mask] = 0\n",
    "                net_mask += m * i\n",
    "        else:\n",
    "            net_mask += m * i\n",
    "    plt.imshow(net_mask.astype(np.uint8))\n",
    "    return net_mask"
   ]
  },
  {
   "cell_type": "code",
   "execution_count": null,
   "metadata": {
    "hidden": true
   },
   "outputs": [],
   "source": [
    "plot_mask(out[0]['masks'], ['building' for _ in range(out[0]['masks'].shape[-1])]) # it works!!a"
   ]
  },
  {
   "cell_type": "code",
   "execution_count": null,
   "metadata": {
    "hidden": true,
    "scrolled": true
   },
   "outputs": [],
   "source": [
    "res = small_merge(out[0]['masks'])"
   ]
  },
  {
   "cell_type": "code",
   "execution_count": null,
   "metadata": {
    "hidden": true
   },
   "outputs": [],
   "source": [
    "plt.imshow(res != 0)"
   ]
  },
  {
   "cell_type": "markdown",
   "metadata": {
    "hidden": true
   },
   "source": [
    "### Result"
   ]
  },
  {
   "cell_type": "code",
   "execution_count": null,
   "metadata": {
    "hidden": true
   },
   "outputs": [],
   "source": [
    "im = (plt.imread('imgcache/18/62239/94167.png') * 256).astype(np.uint8)\n",
    "plt.imshow(im)"
   ]
  },
  {
   "cell_type": "code",
   "execution_count": null,
   "metadata": {
    "hidden": true
   },
   "outputs": [],
   "source": [
    "res = mrcnn.detect_building(im)"
   ]
  },
  {
   "cell_type": "code",
   "execution_count": null,
   "metadata": {
    "hidden": true
   },
   "outputs": [],
   "source": [
    "plt.imshow(res)"
   ]
  },
  {
   "cell_type": "markdown",
   "metadata": {},
   "source": [
    "# Rectanglify"
   ]
  },
  {
   "cell_type": "code",
   "execution_count": 6,
   "metadata": {},
   "outputs": [],
   "source": [
    "import cv2"
   ]
  },
  {
   "cell_type": "code",
   "execution_count": 7,
   "metadata": {},
   "outputs": [
    {
     "data": {
      "text/plain": [
       "<matplotlib.image.AxesImage at 0x1c4f1a0ba8>"
      ]
     },
     "execution_count": 7,
     "metadata": {},
     "output_type": "execute_result"
    },
    {
     "data": {
      "image/png": "[encoded data removed]",
      "text/plain": [
       "<Figure size 432x288 with 1 Axes>"
      ]
     },
     "metadata": {
      "needs_background": "light"
     },
     "output_type": "display_data"
    }
   ],
   "source": [
    "im = plt.imread('runtime/masks/mask_1.png')\n",
    "plt.imshow(im)"
   ]
  },
  {
   "cell_type": "code",
   "execution_count": null,
   "metadata": {},
   "outputs": [],
   "source": [
    "(im != [84,1,68]).shape"
   ]
  },
  {
   "cell_type": "code",
   "execution_count": null,
   "metadata": {},
   "outputs": [],
   "source": [
    "plt.imshow((im != [84,1,68]) * 256)"
   ]
  },
  {
   "cell_type": "code",
   "execution_count": null,
   "metadata": {},
   "outputs": [],
   "source": [
    "# im_flat = (im != [84,1,68]).all(axis=2)"
   ]
  },
  {
   "cell_type": "code",
   "execution_count": null,
   "metadata": {},
   "outputs": [],
   "source": [
    "# im_flat = (im != [84,1,68]).all(axis=2)\n",
    "im_one = (im == 109).any(axis=2)"
   ]
  },
  {
   "cell_type": "code",
   "execution_count": null,
   "metadata": {
    "scrolled": true
   },
   "outputs": [],
   "source": [
    "plt.imshow(im_one)"
   ]
  },
  {
   "cell_type": "code",
   "execution_count": null,
   "metadata": {},
   "outputs": [],
   "source": [
    "from detectors.algorithms import Polygonify\n",
    "def get_mask_corners(im):\n",
    "    dst = cv2.cornerHarris(np.float32(im),2,3,0.04)\n",
    "    idxs = np.argwhere(dst != 0)\n",
    "    guides = np.median(idxs, axis=0)\n",
    "    \n",
    "    distr = np.sum((idxs - guides)**2,axis=1)\n",
    "    # helps rule out far points\n",
    "    lookup = distr <= 1.5 * np.median(distr)\n",
    "    \n",
    "    pg = Polygonify(idxs[lookup])\n",
    "    res = pg.find_polygon()\n",
    "    return res"
   ]
  },
  {
   "cell_type": "code",
   "execution_count": null,
   "metadata": {},
   "outputs": [],
   "source": [
    "res = get_mask_corners(im_one)"
   ]
  },
  {
   "cell_type": "code",
   "execution_count": null,
   "metadata": {},
   "outputs": [],
   "source": [
    "img = np.zeros((256,256,3), np.uint8)\n",
    "for x,y in zip(res[:,0], res[:,1]):\n",
    "    cv2.circle(img,(int(y), int(x)),5,[255,255,255])\n",
    "plt.imshow(img)"
   ]
  },
  {
   "cell_type": "code",
   "execution_count": null,
   "metadata": {},
   "outputs": [],
   "source": []
  },
  {
   "cell_type": "code",
   "execution_count": 22,
   "metadata": {},
   "outputs": [
    {
     "data": {
      "text/plain": [
       "<matplotlib.image.AxesImage at 0x1c4cbc0be0>"
      ]
     },
     "execution_count": 22,
     "metadata": {},
     "output_type": "execute_result"
    },
    {
     "data": {
      "image/png": "[encoded data removed]",
      "text/plain": [
       "<Figure size 432x288 with 1 Axes>"
      ]
     },
     "metadata": {
      "needs_background": "light"
     },
     "output_type": "display_data"
    }
   ],
   "source": [
    "im = plt.imread('runtime/images/image_1.png')\n",
    "plt.imshow(im)"
   ]
  },
  {
   "cell_type": "code",
   "execution_count": 83,
   "metadata": {},
   "outputs": [],
   "source": [
    "out = mrcnn._detect_single(im[:,:,:3], rectanglify=False, to_fill=False)"
   ]
  },
  {
   "cell_type": "code",
   "execution_count": 82,
   "metadata": {},
   "outputs": [
    {
     "data": {
      "text/plain": [
       "array([0, 1, 2, 3, 4, 5, 6, 7, 8], dtype=uint8)"
      ]
     },
     "execution_count": 82,
     "metadata": {},
     "output_type": "execute_result"
    }
   ],
   "source": [
    "np.unique(out)"
   ]
  },
  {
   "cell_type": "code",
   "execution_count": 84,
   "metadata": {},
   "outputs": [
    {
     "data": {
      "text/plain": [
       "array([ 0.,  1.,  2.,  3.,  4.,  5.,  6.,  7.,  8., 10.])"
      ]
     },
     "execution_count": 84,
     "metadata": {},
     "output_type": "execute_result"
    }
   ],
   "source": [
    "np.unique(out)"
   ]
  },
  {
   "cell_type": "code",
   "execution_count": 85,
   "metadata": {},
   "outputs": [],
   "source": [
    "from detectors.algorithms import Polygonify\n",
    "def _detect_mask_corners(im):\n",
    "    dst = cv2.cornerHarris(np.float32(im),2,3,0.04)\n",
    "    idxs = np.argwhere(dst != 0)\n",
    "    guides = np.median(idxs, axis=0)\n",
    "\n",
    "    distr = np.sum((idxs - guides)**2,axis=1)\n",
    "    # helps rule out far points that don't belong to the main image\n",
    "    std = np.std(distr)\n",
    "    median = np.median(distr)\n",
    "    upper = (2*std + 1) * median\n",
    "    lower = (1 - 2*std) * median\n",
    "\n",
    "    lookup = np.any([distr < (2*std + 1) * median, distr > (1 - 2*std) * median], axis=0)\n",
    "\n",
    "    pg = Polygonify(idxs[lookup])\n",
    "    corners = pg.find_polygon()\n",
    "\n",
    "    img = np.zeros(im.shape, dtype=bool)\n",
    "    for x,y in zip(corners[:,0], corners[:,1]):\n",
    "        x = int(round(x))\n",
    "        y = int(round(y))\n",
    "        if x < 0: x = 0\n",
    "        elif x >= im.shape[0]: x = im.shape[0] - 1\n",
    "        if y < 0: y = 0\n",
    "        elif y >= im.shape[1]: y = im.shape[1] - 1\n",
    "        img[x,y] = True\n",
    "    return img"
   ]
  },
  {
   "cell_type": "code",
   "execution_count": 95,
   "metadata": {},
   "outputs": [],
   "source": [
    "rectanglify = True\n",
    "to_fill = False\n",
    "masks = out\n",
    "if rectanglify:\n",
    "    # finds corners\n",
    "    building_ids = np.unique(masks)\n",
    "    building_ids = building_ids[building_ids != 0]\n",
    "    out_mask = np.zeros((masks.shape[0], masks.shape[1], 3), dtype=np.uint8)\n",
    "    for i, ids in enumerate(building_ids):\n",
    "        building_corner_image = _detect_mask_corners(masks == ids) # gets the corners of a building in a boolean mask\n",
    "        points = np.argwhere(building_corner_image) # gets as coordinates\n",
    "        plottable = []\n",
    "        for x,y in zip(points[:,0], points[:,1]):\n",
    "            plottable.append((y, x))\n",
    "            if not to_fill: out_mask[x,y,:] = np.array([i+1,i+1,i+1]) # gets the corner\n",
    "        tmp = np.copy(plottable[2]) # reorders points\n",
    "        plottable[2] = plottable[3]\n",
    "        plottable[3] = tmp\n",
    "        plottable = np.array(plottable, np.int32).reshape(-1,1,2)\n",
    "        if to_fill: cv2.fillPoly(out_mask, [plottable], (i+1,i+1,i+1)) # draws a rectangle using points\n",
    "    masks = out_mask[:,:,0]"
   ]
  },
  {
   "cell_type": "code",
   "execution_count": 102,
   "metadata": {},
   "outputs": [
    {
     "data": {
      "text/plain": [
       "array([ 0.,  1.,  2.,  3.,  4.,  5.,  6.,  7.,  8., 10.])"
      ]
     },
     "execution_count": 102,
     "metadata": {},
     "output_type": "execute_result"
    }
   ],
   "source": [
    "np.unique(out)"
   ]
  },
  {
   "cell_type": "code",
   "execution_count": 124,
   "metadata": {},
   "outputs": [
    {
     "data": {
      "text/plain": [
       "<matplotlib.image.AxesImage at 0x1c51834748>"
      ]
     },
     "execution_count": 124,
     "metadata": {},
     "output_type": "execute_result"
    },
    {
     "data": {
      "image/png": "[encoded data removed]",
      "text/plain": [
       "<Figure size 432x288 with 1 Axes>"
      ]
     },
     "metadata": {
      "needs_background": "light"
     },
     "output_type": "display_data"
    }
   ],
   "source": [
    "plt.imshow(out == 1)"
   ]
  },
  {
   "cell_type": "code",
   "execution_count": 114,
   "metadata": {},
   "outputs": [
    {
     "data": {
      "text/plain": [
       "<matplotlib.image.AxesImage at 0x1c4fa637b8>"
      ]
     },
     "execution_count": 114,
     "metadata": {},
     "output_type": "execute_result"
    },
    {
     "data": {
      "image/png": "[encoded data removed]",
      "text/plain": [
       "<Figure size 432x288 with 1 Axes>"
      ]
     },
     "metadata": {
      "needs_background": "light"
     },
     "output_type": "display_data"
    }
   ],
   "source": [
    "plt.imshow(masks != 0)"
   ]
  },
  {
   "cell_type": "code",
   "execution_count": 92,
   "metadata": {},
   "outputs": [
    {
     "data": {
      "text/plain": [
       "array([ 0.,  1.,  2.,  3.,  4.,  5.,  6.,  7.,  8., 10.])"
      ]
     },
     "execution_count": 92,
     "metadata": {},
     "output_type": "execute_result"
    }
   ],
   "source": [
    "np.unique(out)"
   ]
  },
  {
   "cell_type": "code",
   "execution_count": 115,
   "metadata": {},
   "outputs": [
    {
     "data": {
      "text/plain": [
       "array([0, 1, 2, 3, 4, 5, 6, 7, 8, 9], dtype=uint8)"
      ]
     },
     "execution_count": 115,
     "metadata": {},
     "output_type": "execute_result"
    }
   ],
   "source": [
    "np.unique(masks)"
   ]
  },
  {
   "cell_type": "code",
   "execution_count": 116,
   "metadata": {},
   "outputs": [],
   "source": [
    "# finds corners\n",
    "# masks = out\n",
    "image = im\n",
    "to_return = {}\n",
    "building_ids = np.unique(masks)\n",
    "building_ids = building_ids[building_ids != 0].astype(int).tolist()\n",
    "for i, ids in enumerate(building_ids):\n",
    "    points = np.argwhere(masks == ids).tolist() # gets as coordinates\n",
    "    for j in range(len(points)):\n",
    "        x = points[j][1]\n",
    "        y = points[j][0]\n",
    "        x = int((image.shape[1] / masks.shape[1]) * x) # scales x to what it would be in the original image\n",
    "        y = int((image.shape[0] / masks.shape[1]) * y) # scales y to what it would be in the original image\n",
    "#         geopoint = list(geolocation.tilexy_to_deg_matrix(xtile+1, ytile+1, zoom, x, y))\n",
    "#         points[j] = geopoint\n",
    "        points[j] = [x,y]\n",
    "    tmp = points[2]\n",
    "    points[2] = points[3]\n",
    "    points[3] = tmp\n",
    "    to_return[ids] = points"
   ]
  },
  {
   "cell_type": "code",
   "execution_count": null,
   "metadata": {},
   "outputs": [],
   "source": []
  },
  {
   "cell_type": "code",
   "execution_count": 117,
   "metadata": {},
   "outputs": [
    {
     "data": {
      "text/plain": [
       "[1, 2, 3, 4, 5, 6, 7, 8, 9]"
      ]
     },
     "execution_count": 117,
     "metadata": {},
     "output_type": "execute_result"
    }
   ],
   "source": [
    "building_ids"
   ]
  },
  {
   "cell_type": "code",
   "execution_count": 118,
   "metadata": {},
   "outputs": [
    {
     "data": {
      "text/plain": [
       "{1: [[164, 0], [204, 0], [204, 67], [164, 67]],\n",
       " 2: [[217, 120], [255, 120], [255, 160], [217, 160]],\n",
       " 3: [[31, 0], [138, 0], [138, 60], [31, 60]],\n",
       " 4: [[209, 195], [255, 195], [255, 255], [209, 255]],\n",
       " 5: [[23, 124], [33, 124], [33, 131], [23, 131]],\n",
       " 6: [[99, 115], [161, 145], [147, 176], [84, 146]],\n",
       " 7: [[57, 131], [0, 137], [0, 168], [60, 161]],\n",
       " 8: [[181, 168], [200, 168], [200, 183], [181, 183]],\n",
       " 9: [[59, 248], [84, 248], [84, 255], [59, 255]]}"
      ]
     },
     "execution_count": 118,
     "metadata": {},
     "output_type": "execute_result"
    }
   ],
   "source": [
    "to_return"
   ]
  },
  {
   "cell_type": "code",
   "execution_count": 119,
   "metadata": {},
   "outputs": [],
   "source": [
    "import cv2"
   ]
  },
  {
   "cell_type": "code",
   "execution_count": 122,
   "metadata": {},
   "outputs": [],
   "source": [
    "out_mask = np.zeros(image.shape)\n",
    "for ids, v in enumerate(to_return.values()):\n",
    "    for i in range(len(v)):\n",
    "        t = v[i][0]\n",
    "    cv2.fillPoly(out_mask, [np.array(v)], (ids+1,ids+1,ids+1))"
   ]
  },
  {
   "cell_type": "code",
   "execution_count": 123,
   "metadata": {},
   "outputs": [
    {
     "data": {
      "text/plain": [
       "<matplotlib.image.AxesImage at 0x1c4fd26208>"
      ]
     },
     "execution_count": 123,
     "metadata": {},
     "output_type": "execute_result"
    },
    {
     "data": {
      "image/png": "[encoded data removed]",
      "text/plain": [
       "<Figure size 432x288 with 1 Axes>"
      ]
     },
     "metadata": {
      "needs_background": "light"
     },
     "output_type": "display_data"
    }
   ],
   "source": [
    "plt.imshow(out_mask[:,:,0].astype(bool))"
   ]
  },
  {
   "cell_type": "code",
   "execution_count": 27,
   "metadata": {},
   "outputs": [
    {
     "data": {
      "text/plain": [
       "(256, 256)"
      ]
     },
     "execution_count": 27,
     "metadata": {},
     "output_type": "execute_result"
    }
   ],
   "source": [
    "out.shape"
   ]
  },
  {
   "cell_type": "code",
   "execution_count": 28,
   "metadata": {},
   "outputs": [
    {
     "data": {
      "text/plain": [
       "<matplotlib.image.AxesImage at 0x1c4d18a278>"
      ]
     },
     "execution_count": 28,
     "metadata": {},
     "output_type": "execute_result"
    },
    {
     "data": {
      "image/png": "[encoded data removed]",
      "text/plain": [
       "<Figure size 432x288 with 1 Axes>"
      ]
     },
     "metadata": {
      "needs_background": "light"
     },
     "output_type": "display_data"
    }
   ],
   "source": [
    "plt.imshow(out != 0)"
   ]
  },
  {
   "cell_type": "code",
   "execution_count": 19,
   "metadata": {},
   "outputs": [],
   "source": [
    "image = im"
   ]
  },
  {
   "cell_type": "code",
   "execution_count": 20,
   "metadata": {},
   "outputs": [],
   "source": [
    "to_return = {}\n",
    "masks = out\n",
    "building_ids = np.unique(masks)\n",
    "building_ids = building_ids[building_ids != 0]\n",
    "for i, ids in enumerate(building_ids):\n",
    "    points = np.argwhere(masks == ids).tolist() # gets as coordinates\n",
    "    for j in range(len(points)):\n",
    "        x = points[j][1]\n",
    "        y = points[j][0]\n",
    "        x = int((image.shape[1] / masks.shape[1]) * x) # scales x to what it would be in the original image\n",
    "        y = int((image.shape[1] / masks.shape[1]) * y) # scales y to what it would be in the original image\n",
    "#         geopoint = list(geolocation.tilexy_to_deg_matrix(xtile+1, ytile+1, zoom, x, y))\n",
    "#         points[j] = geopoint\n",
    "    to_return[ids] = points\n",
    "    # storing all these points in memory will suck, need to \"rectanglify\""
   ]
  },
  {
   "cell_type": "code",
   "execution_count": 21,
   "metadata": {},
   "outputs": [
    {
     "data": {
      "text/plain": [
       "{1: [[221, 202], [221, 254], [271, 202], [271, 254]],\n",
       " 2: [[166, 199], [166, 244], [213, 199], [213, 244]],\n",
       " 3: [[128, 82], [128, 115], [175, 82], [175, 115]],\n",
       " 4: [[185, 74], [185, 115], [229, 74], [229, 115]],\n",
       " 5: [[241, 67], [241, 120], [287, 67], [287, 120]],\n",
       " 6: [[87, 301], [87, 319], [133, 301], [133, 319]],\n",
       " 7: [[106, 208], [107, 245], [151, 207], [152, 244]],\n",
       " 8: [[0, 80], [0, 118], [8, 80], [8, 118]],\n",
       " 9: [[298, 69], [298, 110], [319, 69], [319, 110]],\n",
       " 10: [[18, 292], [18, 319], [65, 292], [65, 319]],\n",
       " 11: [[0, 199], [0, 237], [31, 199], [31, 237]],\n",
       " 12: [[288, 209], [288, 241], [314, 209], [314, 241]],\n",
       " 13: [[188, 315], [188, 319], [224, 315], [224, 319]],\n",
       " 14: [[41, 88], [41, 107], [66, 88], [66, 107]],\n",
       " 15: [[45, 197], [45, 250], [92, 197], [92, 250]]}"
      ]
     },
     "execution_count": 21,
     "metadata": {},
     "output_type": "execute_result"
    }
   ],
   "source": [
    "to_return"
   ]
  },
  {
   "cell_type": "code",
   "execution_count": null,
   "metadata": {},
   "outputs": [],
   "source": []
  },
  {
   "cell_type": "code",
   "execution_count": null,
   "metadata": {},
   "outputs": [],
   "source": []
  }
 ],
 "metadata": {
  "kernelspec": {
   "display_name": "OSM_BD",
   "language": "python",
   "name": "osm_bd"
  },
  "language_info": {
   "codemirror_mode": {
    "name": "ipython",
    "version": 3
   },
   "file_extension": ".py",
   "mimetype": "text/x-python",
   "name": "python",
   "nbconvert_exporter": "python",
   "pygments_lexer": "ipython3",
   "version": "3.7.3"
  }
 },
 "nbformat": 4,
 "nbformat_minor": 2
}
